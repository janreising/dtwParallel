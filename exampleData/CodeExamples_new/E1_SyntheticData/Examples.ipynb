{
 "cells": [
  {
   "cell_type": "code",
   "execution_count": 17,
   "id": "5aa06c97",
   "metadata": {},
   "outputs": [],
   "source": [
    "from dtwParallel import dtw_functions\n",
    "from scipy.spatial import distance as d\n",
    "import numpy as np"
   ]
  },
  {
   "cell_type": "code",
   "execution_count": 18,
   "id": "0b526f8f",
   "metadata": {},
   "outputs": [
    {
     "data": {
      "text/plain": [
       "5.560477932315067"
      ]
     },
     "execution_count": 18,
     "metadata": {},
     "output_type": "execute_result"
    }
   ],
   "source": [
    "from dtwParallel import dtw_functions\n",
    "from scipy.spatial import distance as d\n",
    "\n",
    "# For Univariate Time Series\n",
    "x = [1,2,3,4]\n",
    "y = [0,0,1]\n",
    "\n",
    "dtw_functions.dtw(x,y,local_dissimilarity=\"norm1\")"
   ]
  },
  {
   "cell_type": "markdown",
   "id": "1f6891b1",
   "metadata": {},
   "source": [
    "# Example 1"
   ]
  },
  {
   "cell_type": "code",
   "execution_count": 19,
   "id": "e2e63811",
   "metadata": {},
   "outputs": [
    {
     "data": {
      "text/plain": [
       "5.0"
      ]
     },
     "execution_count": 19,
     "metadata": {},
     "output_type": "execute_result"
    }
   ],
   "source": [
    "from dtwParallel import dtw_functions\n",
    "from scipy.spatial import distance as d\n",
    "\n",
    "# For Univariate Time Series\n",
    "x = [1,2,3]\n",
    "y = [0,0,1]\n",
    "\n",
    "dtw_functions.dtw(x,y,local_dissimilarity=d.euclidean)"
   ]
  },
  {
   "cell_type": "code",
   "execution_count": 21,
   "id": "e140b0d4",
   "metadata": {},
   "outputs": [
    {
     "data": {
      "text/plain": [
       "7.0"
      ]
     },
     "execution_count": 21,
     "metadata": {},
     "output_type": "execute_result"
    }
   ],
   "source": [
    "import pandas as pd\n",
    "import numpy as np\n",
    "from dtwParallel import dtw_functions \n",
    "\n",
    "# Use of dataframes with 1D (UTS) as entry data\n",
    "x = pd.DataFrame(np.random.randint(0,10, size=(1,8)))\n",
    "y = pd.DataFrame(np.random.randint(0,10, size=(1,8)))\n",
    "dtw_functions.dtw(x, y, n_threads=8)"
   ]
  },
  {
   "cell_type": "code",
   "execution_count": 22,
   "id": "10600dc6",
   "metadata": {},
   "outputs": [
    {
     "data": {
      "text/plain": [
       "3.735616508459016"
      ]
     },
     "execution_count": 22,
     "metadata": {},
     "output_type": "execute_result"
    }
   ],
   "source": [
    "import pandas as pd\n",
    "import numpy as np\n",
    "from dtwParallel import dtw_functions \n",
    "\n",
    "# Use of dataframes with 2D (MTS) as entry data\n",
    "x = pd.DataFrame([np.random.randn(10), np.random.randn(10)])\n",
    "y = pd.DataFrame([np.random.randn(10), np.random.randn(10)])\n",
    "dtw_functions.dtw(x, y, MTS=True, n_threads=8)"
   ]
  },
  {
   "cell_type": "code",
   "execution_count": 23,
   "id": "09580315",
   "metadata": {},
   "outputs": [
    {
     "data": {
      "text/plain": [
       "1.1754178606953247"
      ]
     },
     "execution_count": 23,
     "metadata": {},
     "output_type": "execute_result"
    }
   ],
   "source": [
    "import pandas as pd \n",
    "import numpy as np\n",
    "from dtwParallel import dtw_functions \n",
    "\n",
    "# Use of dataframes with 1D (UTS) as entry data\n",
    "x = pd.DataFrame(np.random.randn(10)).T\n",
    "y = pd.DataFrame(np.random.randn(10)).T\n",
    "\n",
    "dtw_functions.dtw(x,y,n_threads=8)"
   ]
  },
  {
   "cell_type": "code",
   "execution_count": 24,
   "id": "0118922b",
   "metadata": {},
   "outputs": [
    {
     "data": {
      "text/plain": [
       "8.47464676864499"
      ]
     },
     "execution_count": 24,
     "metadata": {},
     "output_type": "execute_result"
    }
   ],
   "source": [
    "import pandas as pd\n",
    "import numpy as np\n",
    "from dtwParallel import dtw_functions \n",
    "\n",
    "# Use of pd.Seres as entry data\n",
    "x = pd.Series(np.random.randn(10))\n",
    "y = pd.Series(np.random.randn(10))\n",
    "\n",
    "dtw_functions.dtw(x,y,local_dissimilarity=\"norm2\")"
   ]
  },
  {
   "cell_type": "markdown",
   "id": "1e024d84",
   "metadata": {},
   "source": [
    "# Example 2"
   ]
  },
  {
   "cell_type": "code",
   "execution_count": 25,
   "id": "654653ea",
   "metadata": {},
   "outputs": [
    {
     "data": {
      "text/plain": [
       "32.0"
      ]
     },
     "execution_count": 25,
     "metadata": {},
     "output_type": "execute_result"
    }
   ],
   "source": [
    "from dtwParallel import dtw_functions\n",
    "from scipy.spatial import distance as d\n",
    "\n",
    "# For Univariate Time Series\n",
    "x = [1,2,3,5,8,9,5,4,2]\n",
    "y = [1,0,1,0,1,1]\n",
    "\n",
    "dtw_functions.dtw(x, y, local_dissimilarity=d.euclidean)"
   ]
  },
  {
   "cell_type": "code",
   "execution_count": 26,
   "id": "f311a446",
   "metadata": {},
   "outputs": [
    {
     "data": {
      "text/plain": [
       "12.884098726725126"
      ]
     },
     "execution_count": 26,
     "metadata": {},
     "output_type": "execute_result"
    }
   ],
   "source": [
    "from dtwParallel import dtw_functions\n",
    "from scipy.spatial import distance as d\n",
    "\n",
    "# For Univariate Time Series\n",
    "x = [1,2,3,5,8,9,5,4,2]\n",
    "y = [1,0,1,0,1,1]\n",
    "\n",
    "np.sqrt(dtw_functions.dtw(x, y, type_dtw=\"sakoe_chiba\",local_dissimilarity=\"square_euclidean_distance\"))"
   ]
  },
  {
   "cell_type": "code",
   "execution_count": 27,
   "id": "84b39504",
   "metadata": {},
   "outputs": [
    {
     "data": {
      "text/plain": [
       "12.884098726725126"
      ]
     },
     "execution_count": 27,
     "metadata": {},
     "output_type": "execute_result"
    }
   ],
   "source": [
    "from tslearn.metrics import dtw\n",
    "dtw(x,y,global_constraint=\"sakoe_chiba\")"
   ]
  },
  {
   "cell_type": "markdown",
   "id": "7a0fb035",
   "metadata": {},
   "source": [
    "# Example 3"
   ]
  },
  {
   "cell_type": "code",
   "execution_count": 28,
   "id": "733f7128",
   "metadata": {},
   "outputs": [
    {
     "data": {
      "text/plain": [
       "15.0"
      ]
     },
     "execution_count": 28,
     "metadata": {},
     "output_type": "execute_result"
    },
    {
     "data": {
      "image/png": "[encoded data removed]",
      "text/plain": [
       "<Figure size 864x720 with 2 Axes>"
      ]
     },
     "metadata": {
      "needs_background": "light"
     },
     "output_type": "display_data"
    },
    {
     "data": {
      "image/png": "[encoded data removed]",
      "text/plain": [
       "<Figure size 720x576 with 1 Axes>"
      ]
     },
     "metadata": {
      "needs_background": "light"
     },
     "output_type": "display_data"
    }
   ],
   "source": [
    "from dtwParallel import dtw_functions\n",
    "from scipy.spatial import distance as d\n",
    "\n",
    "# For Univariate Time Series\n",
    "x = [4,2,8,4,5]\n",
    "y = [0,1,0,8,9]\n",
    "\n",
    "dtw_functions.dtw(x, y, local_dissimilarity=d.euclidean, get_visualization=True)"
   ]
  },
  {
   "cell_type": "markdown",
   "id": "9cae0e13",
   "metadata": {},
   "source": [
    "# Example 4"
   ]
  },
  {
   "cell_type": "code",
   "execution_count": 29,
   "id": "3ce9a33a",
   "metadata": {},
   "outputs": [
    {
     "data": {
      "text/plain": [
       "7.548509256375962"
      ]
     },
     "execution_count": 29,
     "metadata": {},
     "output_type": "execute_result"
    }
   ],
   "source": [
    "from dtwParallel import dtw_functions\n",
    "from scipy.spatial import distance as d\n",
    "import numpy as np\n",
    "\n",
    "X = np.array([[3,5,8], \n",
    "            [5, 1,9]])\n",
    "\n",
    "Y = np.array([[2, 0,8],\n",
    "            [4, 3,8]])\n",
    "\n",
    "dtw_functions.dtw(X, Y, \"d\", d.euclidean, MTS=True)"
   ]
  },
  {
   "cell_type": "markdown",
   "id": "c0fabfc6",
   "metadata": {},
   "source": [
    "# Example 5"
   ]
  },
  {
   "cell_type": "code",
   "execution_count": 30,
   "id": "7c32ee04",
   "metadata": {},
   "outputs": [
    {
     "data": {
      "text/plain": [
       "22.546443515422986"
      ]
     },
     "execution_count": 30,
     "metadata": {},
     "output_type": "execute_result"
    }
   ],
   "source": [
    "from dtwParallel import dtw_functions\n",
    "from scipy.spatial import distance as d\n",
    "import numpy as np\n",
    "\n",
    "X = np.array([[3, 5, 8], \n",
    "              [5, 1, 9],\n",
    "              [0, 1, 1], \n",
    "              [1, 4, 2]])\n",
    "\n",
    "Y = np.array([[2, 0,8],\n",
    "            [4, 3,8]])\n",
    "\n",
    "dtw_functions.dtw(X, Y, \"d\", d.euclidean, MTS=True)"
   ]
  },
  {
   "cell_type": "markdown",
   "id": "4829a4d9",
   "metadata": {},
   "source": [
    "# Example 6"
   ]
  },
  {
   "cell_type": "code",
   "execution_count": 31,
   "id": "b6983a72",
   "metadata": {},
   "outputs": [
    {
     "name": "stdout",
     "output_type": "stream",
     "text": [
      "21.801217248966267\n"
     ]
    },
    {
     "data": {
      "image/png": "[encoded data removed]",
      "text/plain": [
       "<Figure size 864x720 with 2 Axes>"
      ]
     },
     "metadata": {
      "needs_background": "light"
     },
     "output_type": "display_data"
    }
   ],
   "source": [
    "from dtwParallel import dtw_functions\n",
    "from scipy.spatial import distance as d\n",
    "import numpy as np\n",
    "\n",
    "X = np.array([[3, 5, 8], \n",
    "              [0, 1, 3],\n",
    "              [1, 2, 3]])\n",
    "\n",
    "Y = np.array([[2, 0, 8],\n",
    "              [1, 3, 8],\n",
    "              [4, 8, 12]])\n",
    "\n",
    "d = dtw_functions.dtw(X, Y, d.euclidean, MTS=True, get_visualization=True)\n",
    "print(d)"
   ]
  },
  {
   "cell_type": "markdown",
   "id": "6861737b",
   "metadata": {},
   "source": [
    "## Visualization for MTS with independent DTW distance calculation. "
   ]
  },
  {
   "cell_type": "code",
   "execution_count": 32,
   "id": "4970b3b2",
   "metadata": {
    "scrolled": true
   },
   "outputs": [
    {
     "data": {
      "image/png": "[encoded data removed]",
      "text/plain": [
       "<Figure size 864x720 with 2 Axes>"
      ]
     },
     "metadata": {
      "needs_background": "light"
     },
     "output_type": "display_data"
    },
    {
     "data": {
      "image/png": "[encoded data removed]",
      "text/plain": [
       "<Figure size 864x720 with 2 Axes>"
      ]
     },
     "metadata": {
      "needs_background": "light"
     },
     "output_type": "display_data"
    },
    {
     "data": {
      "image/png": "[encoded data removed]",
      "text/plain": [
       "<Figure size 864x720 with 2 Axes>"
      ]
     },
     "metadata": {
      "needs_background": "light"
     },
     "output_type": "display_data"
    }
   ],
   "source": [
    "from dtwParallel import dtw_functions\n",
    "from scipy.spatial import distance as d\n",
    "\n",
    "X = np.array([[3, 5, 8], \n",
    "              [0, 1, 3],\n",
    "              [1, 2, 3]])\n",
    "\n",
    "Y = np.array([[2, 0, 8],\n",
    "              [1, 3, 8],\n",
    "              [4, 8, 12]])\n",
    "\n",
    "d = dtw_functions.dtw(X, Y,  MTS=True, type_dtw=\"i\", get_visualization=True)"
   ]
  },
  {
   "cell_type": "markdown",
   "id": "ef4aa622",
   "metadata": {},
   "source": [
    "# Example 7"
   ]
  },
  {
   "cell_type": "code",
   "execution_count": 37,
   "id": "c0121411",
   "metadata": {},
   "outputs": [
    {
     "data": {
      "text/plain": [
       "array([[1.7200027 , 2.16000016, 1.92000033, 2.53999992],\n",
       "       [1.59999973, 1.79999978, 1.83999987, 2.27999987],\n",
       "       [0.5399895 , 1.52000002, 1.04000024, 1.66      ],\n",
       "       [0.70000006, 1.57999993, 1.10000018, 1.69999999]])"
      ]
     },
     "execution_count": 37,
     "metadata": {},
     "output_type": "execute_result"
    }
   ],
   "source": [
    "import numpy as np\n",
    "from dtwParallel import dtw_functions as dtw\n",
    "\n",
    "x = np.load('../../Data/E0/X_train.npy')\n",
    "y = np.load('../../Data/E0/X_test.npy')\n",
    "\n",
    "class Input:\n",
    "    def __init__(self):\n",
    "        self.check_errors = False \n",
    "        self.type_dtw = \"d\"\n",
    "        self.constraint = None\n",
    "        self.MTS = True\n",
    "        self.regular_flag = False\n",
    "        self.n_threads = -1\n",
    "        self.local_dissimilarity = \"gower\"\n",
    "        self.visualization = False\n",
    "        self.output_file = True\n",
    "        self.DTW_to_kernel = False\n",
    "        self.sigma_kernel = 1\n",
    "        self.itakura_max_slope = None\n",
    "        self.sakoe_chiba_radius = None\n",
    "\n",
    "input_obj = Input()\n",
    "# API call. \n",
    "dtw_functions.dtw_tensor_3d(x, y, input_obj)"
   ]
  },
  {
   "cell_type": "code",
   "execution_count": 38,
   "id": "11853233",
   "metadata": {},
   "outputs": [
    {
     "data": {
      "text/plain": [
       "array([[ 86.0001335 , 108.00000931,  96.00001545, 126.99999504],\n",
       "       [ 79.99998522,  89.99999088,  91.99999337, 113.9999931 ],\n",
       "       [ 26.99947403,  76.0000011 ,  52.00001171,  82.99999923],\n",
       "       [ 35.00000282,  78.99999571,  55.00000872,  84.99999817]])"
      ]
     },
     "execution_count": 38,
     "metadata": {},
     "output_type": "execute_result"
    }
   ],
   "source": [
    "import numpy as np\n",
    "from dtwParallel import dtw_functions as dtw\n",
    "\n",
    "x = np.load('../../Data/E0/X_train.npy')\n",
    "y = np.load('../../Data/E0/X_test.npy')\n",
    "\n",
    "class Input:\n",
    "    def __init__(self):\n",
    "        self.check_errors = False \n",
    "        self.type_dtw = \"i\"\n",
    "        self.constraint = None\n",
    "        self.MTS = True\n",
    "        self.regular_flag = False\n",
    "        self.n_threads = -1\n",
    "        self.local_dissimilarity = \"gower\"\n",
    "        self.visualization = False\n",
    "        self.output_file = True\n",
    "        self.DTW_to_kernel = False\n",
    "        self.sigma_kernel = 1\n",
    "        self.itakura_max_slope = None\n",
    "        self.sakoe_chiba_radius = None\n",
    "\n",
    "input_obj = Input()\n",
    "# API call. \n",
    "dtw_functions.dtw_tensor_3d(x, y, input_obj)"
   ]
  },
  {
   "cell_type": "code",
   "execution_count": 39,
   "id": "7069d425",
   "metadata": {},
   "outputs": [
    {
     "data": {
      "text/plain": [
       "array([[2.47396197e+16, 9.07388652e+17, 2.23522660e+17, 1.68210525e+18],\n",
       "       [6.12016408e+17, 1.54414468e+18, 8.60278687e+17, 2.31886127e+18],\n",
       "       [4.75817098e+15, 9.36886443e+17, 2.53020450e+17, 1.71160304e+18],\n",
       "       [1.02119724e+18, 8.90689643e+16, 7.72934957e+17, 6.85647630e+17]])"
      ]
     },
     "execution_count": 39,
     "metadata": {},
     "output_type": "execute_result"
    }
   ],
   "source": [
    "import numpy as np\n",
    "from dtwParallel import dtw_functions as dtw\n",
    "\n",
    "x = np.load('../../Data/E0/X_train.npy')\n",
    "y = np.load('../../Data/E0/X_test.npy')\n",
    "\n",
    "class Input:\n",
    "    def __init__(self):\n",
    "        self.check_errors = False \n",
    "        self.type_dtw = \"d\"\n",
    "        self.constraint = None\n",
    "        self.MTS = True\n",
    "        self.regular_flag = False\n",
    "        self.n_threads = -1\n",
    "        self.local_dissimilarity = \"norm2\"\n",
    "        self.visualization = False\n",
    "        self.output_file = True\n",
    "        self.DTW_to_kernel = False\n",
    "        self.sigma_kernel = 1\n",
    "        self.itakura_max_slope = None\n",
    "        self.sakoe_chiba_radius = None\n",
    "\n",
    "input_obj = Input()\n",
    "# API call. \n",
    "dtw_functions.dtw_tensor_3d(x, y, input_obj)"
   ]
  },
  {
   "cell_type": "code",
   "execution_count": 40,
   "id": "5e6535e8",
   "metadata": {},
   "outputs": [
    {
     "data": {
      "text/plain": [
       "array([[8.74355404e+31, 1.17622024e+35, 7.13748276e+33, 4.04211152e+35],\n",
       "       [5.35091548e+34, 3.40626113e+35, 1.05725631e+35, 7.68159658e+35],\n",
       "       [3.23431302e+30, 1.25393744e+35, 9.14562117e+33, 4.18512137e+35],\n",
       "       [1.48977685e+35, 1.13332577e+33, 8.53469211e+34, 6.71589533e+34]])"
      ]
     },
     "execution_count": 40,
     "metadata": {},
     "output_type": "execute_result"
    }
   ],
   "source": [
    "import numpy as np\n",
    "from dtwParallel import dtw_functions as dtw\n",
    "\n",
    "x = np.load('../../Data/E0/X_train.npy')\n",
    "y = np.load('../../Data/E0/X_test.npy')\n",
    "\n",
    "class Input:\n",
    "    def __init__(self):\n",
    "        self.check_errors = False \n",
    "        self.type_dtw = \"d\"\n",
    "        self.constraint = \"itakura\"\n",
    "        self.MTS = True\n",
    "        self.regular_flag = False\n",
    "        self.n_threads = -1\n",
    "        self.local_dissimilarity = \"square_euclidean_distance\"\n",
    "        self.visualization = False\n",
    "        self.output_file = True\n",
    "        self.DTW_to_kernel = False\n",
    "        self.sigma_kernel = 1\n",
    "        self.itakura_max_slope = None\n",
    "        self.sakoe_chiba_radius = None\n",
    "\n",
    "input_obj = Input()\n",
    "# API call. \n",
    "dtw_functions.dtw_tensor_3d(x, y, input_obj)"
   ]
  },
  {
   "cell_type": "markdown",
   "id": "a76342fe",
   "metadata": {},
   "source": [
    "## Examples paper"
   ]
  },
  {
   "cell_type": "markdown",
   "id": "f6814161",
   "metadata": {},
   "source": [
    "### # E1"
   ]
  },
  {
   "cell_type": "code",
   "execution_count": 2,
   "id": "5c87f07d",
   "metadata": {
    "scrolled": false
   },
   "outputs": [
    {
     "name": "stdout",
     "output_type": "stream",
     "text": [
      "DTW distance:  45.4\n",
      "DTW distance:  5.4687\n",
      "DTW distance:  45.4\n"
     ]
    },
    {
     "data": {
      "image/png": "[encoded data removed]",
      "text/plain": [
       "<Figure size 864x720 with 2 Axes>"
      ]
     },
     "metadata": {
      "needs_background": "light"
     },
     "output_type": "display_data"
    },
    {
     "data": {
      "image/png": "[encoded data removed]",
      "text/plain": [
       "<Figure size 720x576 with 1 Axes>"
      ]
     },
     "metadata": {
      "needs_background": "light"
     },
     "output_type": "display_data"
    }
   ],
   "source": [
    "from dtwParallel import dtw_functions\n",
    "from scipy.spatial import distance \n",
    "import numpy as np\n",
    "\n",
    "x = [2.5, 4.3, 6.6, 8.0, 1, 0, 0, 1, 5.5, 15.2]\n",
    "y = [12.1, 0, 0, 1, 1, 6.4, 3.5, 1, 0, 0]\n",
    "\n",
    "dtw_distance = dtw_functions.dtw(x, y, local_dissimilarity=distance.euclidean, check_errors=True)\n",
    "print(\"DTW distance: \", np.round(dtw_distance,4))\n",
    "\n",
    "dtw_distance = dtw_functions.dtw(x, y, local_dissimilarity=distance.canberra)\n",
    "print(\"DTW distance: \", np.round(dtw_distance,4))\n",
    "\n",
    "dtw_distance = dtw_functions.dtw(x, y, local_dissimilarity=distance.euclidean, get_visualization=True)\n",
    "print(\"DTW distance: \", np.round(dtw_distance,4))"
   ]
  },
  {
   "cell_type": "markdown",
   "id": "eb1bf5eb",
   "metadata": {},
   "source": [
    "### # E2"
   ]
  },
  {
   "cell_type": "code",
   "execution_count": 19,
   "id": "49776da3",
   "metadata": {},
   "outputs": [
    {
     "name": "stdout",
     "output_type": "stream",
     "text": [
      "DTW distance:  11.0\n"
     ]
    }
   ],
   "source": [
    "from dtwParallel import dtw_functions\n",
    "import numpy as np\n",
    "\n",
    "X = np.array([\n",
    "              [3.3, 1, 1.75], \n",
    "              [5.1, 1, 3.42],\n",
    "              [1.5, 0, 0.55],\n",
    "              [2.0, 1, 0.85],\n",
    "              [1.2, 0, 2.25],\n",
    "            ])\n",
    "\n",
    "Y = np.array([ \n",
    "              [1.3, 1, 0.25], \n",
    "              [4.1, 1, 1.42],\n",
    "              [2.5, 1, 4.55],\n",
    "              [3.0, 1, 2.85],\n",
    "              [0.2, 0, 3.25],\n",
    "             ])\n",
    "\n",
    "dtw_distance = dtw_functions.dtw(X, Y, \"i\", local_dissimilarity=\"gower\", MTS=True)\n",
    "print(\"DTW distance: \", np.round(dtw_distance, 4))"
   ]
  },
  {
   "cell_type": "markdown",
   "id": "e5f40524",
   "metadata": {},
   "source": [
    "## Examples of DTW distance calculation for N UTS"
   ]
  },
  {
   "cell_type": "code",
   "execution_count": 20,
   "id": "d69f864b",
   "metadata": {},
   "outputs": [],
   "source": [
    "A = [[1, 4, 5, 12], \n",
    "    [-5, 8, 9, 0],\n",
    "    [-6, 7, 11, 19]]\n",
    "\n",
    "B = [[1, 0, 5, 12], \n",
    "    [5, 1, 9, 0],\n",
    "    [6, 7, 1, 10]]\n",
    "\n",
    "df = pd.DataFrame(A)\n",
    "df.to_csv('../../Data/E1_SyntheticData/data_A.csv', index=False)\n",
    "\n",
    "df = pd.DataFrame(B)\n",
    "df.to_csv('../../Data/E1_SyntheticData/data_B.csv', index=False)"
   ]
  },
  {
   "cell_type": "markdown",
   "id": "6879b33f",
   "metadata": {},
   "source": [
    "### # E3.1"
   ]
  },
  {
   "cell_type": "code",
   "execution_count": 21,
   "id": "dd038e2a",
   "metadata": {},
   "outputs": [
    {
     "name": "stdout",
     "output_type": "stream",
     "text": [
      "DTW distance:\n",
      " [[ 2. 23. 14.]\n",
      " [29. 17. 25.]\n",
      " [23. 38. 28.]]\n"
     ]
    }
   ],
   "source": [
    "from dtwParallel import dtw_functions\n",
    "import pandas as pd\n",
    "\n",
    "data_A = pd.read_csv(\"../../Data/E1_SyntheticData/data_A.csv\")\n",
    "data_B = pd.read_csv(\"../../Data/E1_SyntheticData/data_B.csv\")\n",
    "\n",
    "dtw_distance = dtw_functions.dtw(data_A, data_B, n_threads=9)\n",
    "print(\"DTW distance:\\n\", dtw_distance)"
   ]
  },
  {
   "cell_type": "markdown",
   "id": "45efeb53",
   "metadata": {},
   "source": [
    "### # E3.2"
   ]
  },
  {
   "cell_type": "code",
   "execution_count": 22,
   "id": "a1bbca92",
   "metadata": {},
   "outputs": [
    {
     "name": "stdout",
     "output_type": "stream",
     "text": [
      "DTW distance:\n",
      " [[ 0. 26. 20.]\n",
      " [26.  0. 23.]\n",
      " [20. 23.  0.]] \n",
      "\n",
      "Kernel matrix:\n",
      " [[1.         0.0143372  0.03818524]\n",
      " [0.0143372  1.         0.02339806]\n",
      " [0.03818524 0.02339806 1.        ]]\n"
     ]
    }
   ],
   "source": [
    "from dtwParallel import dtw_functions\n",
    "import pandas as pd\n",
    "\n",
    "data_A = pd.read_csv(\"../../Data/E1_SyntheticData/data_A.csv\")\n",
    "\n",
    "dtw_distance, Kernel_matrix = dtw_functions.dtw(data_A, n_threads=3, DTW_to_kernel=True, sigma_kernel=1.75)\n",
    "print(\"DTW distance:\\n\", dtw_distance, \"\\n\\nKernel matrix:\\n\", Kernel_matrix)"
   ]
  },
  {
   "cell_type": "markdown",
   "id": "1c860b55",
   "metadata": {},
   "source": [
    "## Examples/Implementations Reviewer 2"
   ]
  },
  {
   "cell_type": "code",
   "execution_count": 3,
   "id": "b50712bd",
   "metadata": {},
   "outputs": [],
   "source": [
    "import pandas as pd\n",
    "import numpy as np\n",
    "from dtwParallel import dtw_functions \n",
    "from scipy.spatial import distance as d"
   ]
  },
  {
   "cell_type": "code",
   "execution_count": 4,
   "id": "eff5b720",
   "metadata": {},
   "outputs": [
    {
     "data": {
      "text/plain": [
       "45.400000000000006"
      ]
     },
     "execution_count": 4,
     "metadata": {},
     "output_type": "execute_result"
    }
   ],
   "source": [
    "import pandas as pd\n",
    "import numpy as np\n",
    "from dtwParallel import dtw_functions \n",
    "\n",
    "# Use of np.array as entry data\n",
    "x = [2.5, 4.3, 6.6, 8.0, 1, 0, 0, 1, 5.5, 15.2]\n",
    "y = [12.1, 0, 0, 1, 1, 6.4, 3.5, 1, 0, 0]\n",
    "\n",
    "dtw_functions.dtw(x,y,local_dissimilarity=d.euclidean)"
   ]
  },
  {
   "cell_type": "code",
   "execution_count": 8,
   "id": "c6c11065",
   "metadata": {},
   "outputs": [
    {
     "data": {
      "text/plain": [
       "6.0"
      ]
     },
     "execution_count": 8,
     "metadata": {},
     "output_type": "execute_result"
    }
   ],
   "source": [
    "import pandas as pd\n",
    "import numpy as np\n",
    "from dtwParallel import dtw_functions \n",
    "\n",
    "# Use of dataframes with 1D (UTS) as entry data\n",
    "x = pd.DataFrame(np.random.randint(0,10, size=(1,8)))\n",
    "y = pd.DataFrame(np.random.randint(0,10, size=(1,8)))\n",
    "dtw_functions.dtw(x, y, n_threads=8)"
   ]
  },
  {
   "cell_type": "code",
   "execution_count": 12,
   "id": "ddf5e624",
   "metadata": {},
   "outputs": [
    {
     "data": {
      "text/plain": [
       "8.852509885053395"
      ]
     },
     "execution_count": 12,
     "metadata": {},
     "output_type": "execute_result"
    }
   ],
   "source": [
    "import pandas as pd\n",
    "import numpy as np\n",
    "from dtwParallel import dtw_functions \n",
    "\n",
    "# Use of pd.Seres as entry data\n",
    "x = pd.Series(np.random.randn(10))\n",
    "y = pd.Series(np.random.randn(10))\n",
    "\n",
    "dtw_functions.dtw(x,y,local_dissimilarity=\"norm2\")"
   ]
  },
  {
   "cell_type": "code",
   "execution_count": 9,
   "id": "4be643d4",
   "metadata": {},
   "outputs": [
    {
     "data": {
      "text/plain": [
       "array([[7.87182079, 5.79569828],\n",
       "       [9.94238744, 8.24318391]])"
      ]
     },
     "execution_count": 9,
     "metadata": {},
     "output_type": "execute_result"
    }
   ],
   "source": [
    "import pandas as pd\n",
    "import numpy as np\n",
    "from dtwParallel import dtw_functions \n",
    "\n",
    "# Use of dataframes with 2 UTS as entry data\n",
    "x = pd.DataFrame([np.random.randn(10), np.random.randn(10)])\n",
    "y = pd.DataFrame([np.random.randn(10), np.random.randn(10)])\n",
    "dtw_functions.dtw(x, y, MTS=False, n_threads=8)"
   ]
  },
  {
   "cell_type": "code",
   "execution_count": 10,
   "id": "e6ede066",
   "metadata": {},
   "outputs": [
    {
     "data": {
      "text/plain": [
       "4.53121626314217"
      ]
     },
     "execution_count": 10,
     "metadata": {},
     "output_type": "execute_result"
    }
   ],
   "source": [
    "import pandas as pd\n",
    "import numpy as np\n",
    "from dtwParallel import dtw_functions \n",
    "\n",
    "# Use of dataframes with 2 UTS as entry data\n",
    "x = pd.DataFrame([np.random.randn(10), np.random.randn(10)])\n",
    "y = pd.DataFrame([np.random.randn(10), np.random.randn(10)])\n",
    "dtw_functions.dtw(x, y, MTS=True, n_threads=8)"
   ]
  },
  {
   "cell_type": "code",
   "execution_count": 6,
   "id": "b6d491a1",
   "metadata": {
    "scrolled": true
   },
   "outputs": [
    {
     "data": {
      "text/plain": [
       "1.8159896799722128"
      ]
     },
     "execution_count": 6,
     "metadata": {},
     "output_type": "execute_result"
    }
   ],
   "source": [
    "import pandas as pd\n",
    "import numpy as np\n",
    "from dtwParallel import dtw_functions \n",
    "\n",
    "# Use of dataframes with 1D (UTS) as entry data\n",
    "x = pd.DataFrame(np.random.randn(10)).T\n",
    "y = pd.DataFrame(np.random.randn(10)).T\n",
    "\n",
    "dtw_functions.dtw(x,y,n_threads=8)"
   ]
  },
  {
   "cell_type": "markdown",
   "id": "4f2c00aa",
   "metadata": {},
   "source": [
    "## Reviewer 3"
   ]
  },
  {
   "cell_type": "code",
   "execution_count": 2,
   "id": "a4a7f5a6",
   "metadata": {
    "scrolled": false
   },
   "outputs": [
    {
     "name": "stdout",
     "output_type": "stream",
     "text": [
      "(3, 14, 57)\n",
      "(3, 14, 57)\n"
     ]
    },
    {
     "data": {
      "text/plain": [
       "array([[ 0.        , 23.67987599, 24.42200029],\n",
       "       [23.67987599,  0.        , 28.77270557],\n",
       "       [24.42200029, 28.77270557,  0.        ]])"
      ]
     },
     "execution_count": 2,
     "metadata": {},
     "output_type": "execute_result"
    }
   ],
   "source": [
    "import pandas as pd\n",
    "import numpy as np\n",
    "from dtwParallel import dtw_functions \n",
    "from scipy.spatial import distance as d\n",
    "\n",
    "class Input:\n",
    "    def __init__(self):\n",
    "        self.check_errors = False \n",
    "        self.type_dtw = \"i\"\n",
    "        self.MTS = True\n",
    "        self.regular_flag = 666\n",
    "        self.n_threads = 2\n",
    "        self.distance = d.euclidean\n",
    "        self.visualization = False\n",
    "        self.output_file = False\n",
    "        self.DTW_to_kernel = False\n",
    "        self.sigma = 1\n",
    "        self.itakura_max_slope = None\n",
    "        self.sakoe_chiba_radius = None\n",
    "        \n",
    "        \n",
    "x_aux = np.load('X_s1.npy', allow_pickle=True)\n",
    "x = x_aux[0:3]\n",
    "y = x_aux[0:3]\n",
    "\n",
    "print(x.shape)\n",
    "print(y.shape)\n",
    "\n",
    "\n",
    "input_obj = Input()\n",
    "dtw_functions.dtw_tensor_3d(x, y, input_obj)"
   ]
  }
 ],
 "metadata": {
  "kernelspec": {
   "display_name": "Python 3 (ipykernel)",
   "language": "python",
   "name": "python3"
  },
  "language_info": {
   "codemirror_mode": {
    "name": "ipython",
    "version": 3
   },
   "file_extension": ".py",
   "mimetype": "text/x-python",
   "name": "python",
   "nbconvert_exporter": "python",
   "pygments_lexer": "ipython3",
   "version": "3.8.0"
  }
 },
 "nbformat": 4,
 "nbformat_minor": 5
}
