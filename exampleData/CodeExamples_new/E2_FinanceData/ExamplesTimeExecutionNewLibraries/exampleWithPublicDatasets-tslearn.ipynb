{
 "cells": [
  {
   "cell_type": "code",
   "execution_count": 8,
   "metadata": {},
   "outputs": [],
   "source": [
    "from tslearn.metrics import dtw\n",
    "\n",
    "import time\n",
    "from scipy.spatial import distance\n",
    "import numpy as np"
   ]
  },
  {
   "cell_type": "code",
   "execution_count": 9,
   "metadata": {},
   "outputs": [],
   "source": [
    "number_of_repetitions = 30"
   ]
  },
  {
   "cell_type": "markdown",
   "metadata": {},
   "source": [
    "* The currently tested packages can only work with distances that do not allow the computation of data of different nature. For this reason, a public data set obtained from https://finance.yahoo.com/ has been used. All data are continuous."
   ]
  },
  {
   "cell_type": "markdown",
   "metadata": {},
   "source": [
    "# tslearn.dtw DTW dependent."
   ]
  },
  {
   "cell_type": "markdown",
   "metadata": {},
   "source": [
    "## 505 MTS"
   ]
  },
  {
   "cell_type": "code",
   "execution_count": 4,
   "metadata": {},
   "outputs": [],
   "source": [
    "x = np.load('../../../Data/E2_FinanceData/FinanceData_20days_norm.npy', allow_pickle=True)\n",
    "\n",
    "\n",
    "time_dtw_dep = []\n",
    "\n",
    "for rep in range(number_of_repetitions):\n",
    "\n",
    "    inicio = time.time()\n",
    "    dtw_matrix = np.zeros((len(x), len(x)))\n",
    "    for i in range(len(x)):\n",
    "        for j in range(len(x)):\n",
    "            pat1 = x[i]\n",
    "            pat2 = x[j]\n",
    "            dtw_distance = dtw(pat1, pat2)\n",
    "            dtw_matrix[i,j] = dtw_distance\n",
    "\n",
    "    fin = time.time()\n",
    "    time_dtw_dep.append(fin-inicio)\n",
    "\n",
    "\n",
    "f = open(\"../../../results_E2_financeData/DataResultsTimePaper/tslearn_505.txt\", \"a\")\n",
    "f.write(str(time_dtw_dep))\n",
    "f.close()"
   ]
  },
  {
   "cell_type": "code",
   "execution_count": 6,
   "metadata": {},
   "outputs": [],
   "source": [
    "x = np.load('../../../Data/E2_FinanceData/FinanceData_20days.npy', allow_pickle=True)\n",
    "\n",
    "\n",
    "time_dtw_dep = []\n",
    "\n",
    "for rep in range(number_of_repetitions):\n",
    "\n",
    "    inicio = time.time()\n",
    "    dtw_matrix = np.zeros((len(x), len(x)))\n",
    "    for i in range(len(x)):\n",
    "        for j in range(len(x)):\n",
    "            pat1 = x[i]\n",
    "            pat2 = x[j]\n",
    "            dtw_distance = dtw(pat1, pat2)\n",
    "            dtw_matrix[i,j] = dtw_distance\n",
    "\n",
    "    fin = time.time()\n",
    "    time_dtw_dep.append(fin-inicio)\n",
    "\n",
    "\n",
    "f = open(\"../../../results_E2_financeData/DataResultsTimePaper/tslearn_505_noNorm.txt\", \"a\")\n",
    "f.write(str(time_dtw_dep))\n",
    "f.close()"
   ]
  },
  {
   "cell_type": "markdown",
   "metadata": {},
   "source": [
    "## 252 MTS"
   ]
  },
  {
   "cell_type": "code",
   "execution_count": 5,
   "metadata": {},
   "outputs": [],
   "source": [
    "x = np.load('../../../Data/E2_FinanceData/FinanceData_20days_norm.npy', allow_pickle=True)\n",
    "x = x[0:252,:,:]\n",
    "\n",
    "\n",
    "time_dtw_dep = []\n",
    "\n",
    "for rep in range(number_of_repetitions):\n",
    "\n",
    "    inicio = time.time()\n",
    "    dtw_matrix = np.zeros((len(x), len(x)))\n",
    "    for i in range(len(x)):\n",
    "        for j in range(len(x)):\n",
    "            pat1 = x[i]\n",
    "            pat2 = x[j]\n",
    "            dtw_distance = dtw(pat1, pat2)\n",
    "            dtw_matrix[i,j] = dtw_distance\n",
    "\n",
    "    fin = time.time()\n",
    "    time_dtw_dep.append(fin-inicio)\n",
    "\n",
    "\n",
    "f = open(\"../../../results_E2_financeData/DataResultsTimePaper/tslearn_252.txt\", \"a\")\n",
    "f.write(str(time_dtw_dep))\n",
    "f.close()"
   ]
  },
  {
   "cell_type": "code",
   "execution_count": 7,
   "metadata": {},
   "outputs": [],
   "source": [
    "x = np.load('../../../Data/E2_FinanceData/FinanceData_20days.npy', allow_pickle=True)\n",
    "x = x[0:252,:,:]\n",
    "\n",
    "\n",
    "time_dtw_dep = []\n",
    "\n",
    "for rep in range(number_of_repetitions):\n",
    "\n",
    "    inicio = time.time()\n",
    "    dtw_matrix = np.zeros((len(x), len(x)))\n",
    "    for i in range(len(x)):\n",
    "        for j in range(len(x)):\n",
    "            pat1 = x[i]\n",
    "            pat2 = x[j]\n",
    "            dtw_distance = dtw(pat1, pat2)\n",
    "            dtw_matrix[i,j] = dtw_distance\n",
    "\n",
    "    fin = time.time()\n",
    "    time_dtw_dep.append(fin-inicio)\n",
    "\n",
    "\n",
    "f = open(\"../../../results_E2_financeData/DataResultsTimePaper/tslearn_252_noNorm.txt\", \"a\")\n",
    "f.write(str(time_dtw_dep))\n",
    "f.close()"
   ]
  },
  {
   "cell_type": "markdown",
   "metadata": {},
   "source": [
    "## With different lengths of the time series"
   ]
  },
  {
   "cell_type": "code",
   "execution_count": null,
   "metadata": {},
   "outputs": [],
   "source": [
    "test = [10, 50, 100, 500, 1000]\n",
    "\n",
    "for t in range(len(test)):\n",
    "    x = np.load('../../../Data/E2_FinanceData/FinanceData_'+str(test[t])+'days_norm.npy', allow_pickle=True)\n",
    "    y = x.copy()\n",
    "\n",
    "    time_dtw_dep = []\n",
    "\n",
    "    for rep in range(number_of_repetitions):\n",
    "\n",
    "        inicio = time.time()\n",
    "        dtw_matrix = np.zeros((len(x), len(x)))\n",
    "        for i in range(len(x)):\n",
    "            for j in range(len(x)):\n",
    "                pat1 = x[i]\n",
    "                pat2 = x[j]\n",
    "                dtw_distance = dtw(pat1, pat2)\n",
    "                dtw_matrix[i,j] = dtw_distance\n",
    "\n",
    "        fin = time.time()\n",
    "        time_dtw_dep.append(fin-inicio)\n",
    "\n",
    "\n",
    "    f = open(\"../R3_exp/tslearn_\"+str(test[t])+\"days_datanorm_v4.txt\", \"a\")\n",
    "    f.write(str(time_dtw_dep))\n",
    "    f.close()"
   ]
  },
  {
   "cell_type": "code",
   "execution_count": null,
   "metadata": {},
   "outputs": [],
   "source": [
    "test = [10, 20, 50, 100, 200, 500, 1000, 2000]\n",
    "\n",
    "for t in range(len(test)):\n",
    "    x = np.load('../../../Data/E2_FinanceData/FinanceData_'+str(test[t])+'days_norm.npy', allow_pickle=True)\n",
    "    y = x.copy()\n",
    "\n",
    "    time_dtw_dep = []\n",
    "\n",
    "    for rep in range(number_of_repetitions):\n",
    "\n",
    "        inicio = time.time()\n",
    "        dtw_matrix = np.zeros((len(x), len(x)))\n",
    "        for i in range(len(x)):\n",
    "            for j in range(len(x)):\n",
    "                pat1 = x[i]\n",
    "                pat2 = x[j]\n",
    "                dtw_distance = dtw(pat1, pat2)\n",
    "                dtw_matrix[i,j] = dtw_distance\n",
    "\n",
    "        fin = time.time()\n",
    "        time_dtw_dep.append(fin-inicio)\n",
    "\n",
    "\n",
    "    f = open(\"../R3_exp_v2/tslearn_\"+str(test[t])+\"days_datanorm_v4.txt\", \"a\")\n",
    "    f.write(str(time_dtw_dep))\n",
    "    f.close()"
   ]
  },
  {
   "cell_type": "code",
   "execution_count": null,
   "metadata": {},
   "outputs": [],
   "source": []
  }
 ],
 "metadata": {
  "kernelspec": {
   "display_name": "Python 3 (ipykernel)",
   "language": "python",
   "name": "python3"
  },
  "language_info": {
   "codemirror_mode": {
    "name": "ipython",
    "version": 3
   },
   "file_extension": ".py",
   "mimetype": "text/x-python",
   "name": "python",
   "nbconvert_exporter": "python",
   "pygments_lexer": "ipython3",
   "version": "3.9.12"
  }
 },
 "nbformat": 4,
 "nbformat_minor": 4
}
