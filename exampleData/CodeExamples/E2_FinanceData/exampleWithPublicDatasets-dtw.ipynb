{
 "cells": [
  {
   "cell_type": "code",
   "execution_count": 1,
   "metadata": {},
   "outputs": [],
   "source": [
    "# package 1\n",
    "#from dtaidistance import dtw, dtw_ndim\n",
    "# package 2\n",
    "from fastdtw import fastdtw\n",
    "# package 4\n",
    "from dtw import dtw\n",
    "# package 5\n",
    "# from pydtw import dtw2d\n",
    "# package 6\n",
    "# from sdtw import SoftDTW\n",
    "# from sdtw.distance import SquaredEuclidean\n",
    "\n",
    "import time\n",
    "from scipy.spatial import distance\n",
    "import numpy as np"
   ]
  },
  {
   "cell_type": "code",
   "execution_count": 2,
   "metadata": {},
   "outputs": [],
   "source": [
    "number_of_repetitions = 30"
   ]
  },
  {
   "cell_type": "markdown",
   "metadata": {},
   "source": [
    "* The currently tested packages can only work with distances that do not allow the computation of data of different nature. For this reason, a public data set obtained from https://finance.yahoo.com/ has been used. All data are continuous."
   ]
  },
  {
   "cell_type": "markdown",
   "metadata": {},
   "source": [
    "# 4. dtw. DTW dependent. There is no possibility to calculate independent DTW."
   ]
  },
  {
   "cell_type": "markdown",
   "metadata": {},
   "source": [
    "## 505 MTS"
   ]
  },
  {
   "cell_type": "code",
   "execution_count": null,
   "metadata": {},
   "outputs": [
    {
     "name": "stdout",
     "output_type": "stream",
     "text": [
      "(505, 20, 6)\n"
     ]
    }
   ],
   "source": [
    "x = np.load('../../Data/E2_FinanceData/FinanceData_20days_norm.npy', allow_pickle=True)\n",
    "\n",
    "print(x.shape)\n",
    "\n",
    "time_dtw_dep = []\n",
    "\n",
    "for rep in range(number_of_repetitions):\n",
    "    \n",
    "    inicio = time.time()\n",
    "    dtw_matrix = np.zeros((len(x), len(x)))\n",
    "    for i in range(len(x)):\n",
    "        for j in range(len(x)):\n",
    "            pat1 = x[i]\n",
    "            pat2 = x[j]\n",
    "            d, cost_matrix, acc_cost_matrix, path = dtw(pat1, pat2, dist=distance.euclidean)\n",
    "            dtw_matrix[i,j] = d\n",
    "\n",
    "    fin = time.time()\n",
    "    time_dtw_dep.append(fin-inicio)\n",
    "    \n",
    "f = open(\"../../results_E2_financeData/DataResultsTimePaper/dtw_505.txt\", \"a\")\n",
    "f.write(str(time_dtw_dep))\n",
    "f.close()"
   ]
  },
  {
   "cell_type": "code",
   "execution_count": null,
   "metadata": {},
   "outputs": [],
   "source": [
    "x = np.load('../../Data/E2_FinanceData/FinanceData_20days.npy', allow_pickle=True)\n",
    "\n",
    "print(x.shape)\n",
    "\n",
    "time_dtw_dep = []\n",
    "\n",
    "for rep in range(number_of_repetitions):\n",
    "    \n",
    "    inicio = time.time()\n",
    "    dtw_matrix = np.zeros((len(x), len(x)))\n",
    "    for i in range(len(x)):\n",
    "        for j in range(len(x)):\n",
    "            pat1 = x[i]\n",
    "            pat2 = x[j]\n",
    "            d, cost_matrix, acc_cost_matrix, path = dtw(pat1, pat2, dist=distance.euclidean)\n",
    "            dtw_matrix[i,j] = d\n",
    "\n",
    "    fin = time.time()\n",
    "    time_dtw_dep.append(fin-inicio)\n",
    "    \n",
    "f = open(\"../../results_E2_financeData/DataResultsTimePaper/dtw_505_noNorm.txt\", \"a\")\n",
    "f.write(str(time_dtw_dep))\n",
    "f.close()"
   ]
  },
  {
   "cell_type": "markdown",
   "metadata": {},
   "source": [
    "## 252 MTS"
   ]
  },
  {
   "cell_type": "code",
   "execution_count": null,
   "metadata": {},
   "outputs": [],
   "source": [
    "x = np.load('../../Data/E2_FinanceData/FinanceData_20days_norm.npy', allow_pickle=True)\n",
    "x = x[0:252,:,:]\n",
    "\n",
    "print(x.shape)\n",
    "\n",
    "time_dtw_dep = []\n",
    "\n",
    "for rep in range(number_of_repetitions):\n",
    "    \n",
    "    inicio = time.time()\n",
    "    dtw_matrix = np.zeros((len(x), len(x)))\n",
    "    for i in range(len(x)):\n",
    "        for j in range(len(x)):\n",
    "            pat1 = x[i]\n",
    "            pat2 = x[j]\n",
    "            d, cost_matrix, acc_cost_matrix, path = dtw(pat1, pat2, dist=distance.euclidean)\n",
    "            dtw_matrix[i,j] = d\n",
    "\n",
    "    fin = time.time()\n",
    "    time_dtw_dep.append(fin-inicio)\n",
    "    \n",
    "f = open(\"../../results_E2_financeData/DataResultsTimePaper/dtw_252.txt\", \"a\")\n",
    "f.write(str(time_dtw_dep))\n",
    "f.close()"
   ]
  },
  {
   "cell_type": "code",
   "execution_count": null,
   "metadata": {},
   "outputs": [],
   "source": [
    "x = np.load('../../Data/E2_FinanceData/FinanceData_20days.npy', allow_pickle=True)\n",
    "x = x[0:252,:,:]\n",
    "\n",
    "print(x.shape)\n",
    "\n",
    "time_dtw_dep = []\n",
    "\n",
    "for rep in range(number_of_repetitions):\n",
    "    \n",
    "    inicio = time.time()\n",
    "    dtw_matrix = np.zeros((len(x), len(x)))\n",
    "    for i in range(len(x)):\n",
    "        for j in range(len(x)):\n",
    "            pat1 = x[i]\n",
    "            pat2 = x[j]\n",
    "            d, cost_matrix, acc_cost_matrix, path = dtw(pat1, pat2, dist=distance.euclidean)\n",
    "            dtw_matrix[i,j] = d\n",
    "\n",
    "    fin = time.time()\n",
    "    time_dtw_dep.append(fin-inicio)\n",
    "    \n",
    "f = open(\"../../results_E2_financeData/DataResultsTimePaper/dtw_252_noNorm.txt\", \"a\")\n",
    "f.write(str(time_dtw_dep))\n",
    "f.close()"
   ]
  },
  {
   "cell_type": "code",
   "execution_count": null,
   "metadata": {},
   "outputs": [],
   "source": []
  }
 ],
 "metadata": {
  "kernelspec": {
   "display_name": "Python 3 (ipykernel)",
   "language": "python",
   "name": "python3"
  },
  "language_info": {
   "codemirror_mode": {
    "name": "ipython",
    "version": 3
   },
   "file_extension": ".py",
   "mimetype": "text/x-python",
   "name": "python",
   "nbconvert_exporter": "python",
   "pygments_lexer": "ipython3",
   "version": "3.9.12"
  }
 },
 "nbformat": 4,
 "nbformat_minor": 4
}
