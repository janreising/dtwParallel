{
 "cells": [
  {
   "cell_type": "code",
   "execution_count": 3,
   "metadata": {},
   "outputs": [
    {
     "name": "stdout",
     "output_type": "stream",
     "text": [
      "Importing the dtw module. When using in academic works please cite:\n",
      "  T. Giorgino. Computing and Visualizing Dynamic Time Warping Alignments in R: The dtw Package.\n",
      "  J. Stat. Soft., doi:10.18637/jss.v031.i07.\n",
      "\n"
     ]
    }
   ],
   "source": [
    "# package 1\n",
    "from dtaidistance import dtw, dtw_ndim\n",
    "# package 2\n",
    "from fastdtw import fastdtw\n",
    "# package 4\n",
    "from dtw import dtw\n",
    "# package 5\n",
    "# from pydtw import dtw2d\n",
    "# package 6\n",
    "# from sdtw import SoftDTW\n",
    "# from sdtw.distance import SquaredEuclidean\n",
    "\n",
    "import time\n",
    "from scipy.spatial import distance\n",
    "import numpy as np\n",
    "\n",
    "from dtw import *"
   ]
  },
  {
   "cell_type": "code",
   "execution_count": 4,
   "metadata": {},
   "outputs": [],
   "source": [
    "number_of_repetitions = 30"
   ]
  },
  {
   "cell_type": "markdown",
   "metadata": {},
   "source": [
    "* The currently tested packages can only work with distances that do not allow the computation of data of different nature. For this reason, a public data set obtained from https://finance.yahoo.com/ has been used. All data are continuous."
   ]
  },
  {
   "cell_type": "markdown",
   "metadata": {},
   "source": [
    "# 4. python-dtw. DTW dependent."
   ]
  },
  {
   "cell_type": "code",
   "execution_count": 17,
   "metadata": {
    "scrolled": false
   },
   "outputs": [
    {
     "name": "stdout",
     "output_type": "stream",
     "text": [
      "(505, 20, 6)\n",
      "0\n"
     ]
    },
    {
     "ename": "ValueError",
     "evalue": "Unsupported dtype object",
     "output_type": "error",
     "traceback": [
      "\u001b[0;31m---------------------------------------------------------------------------\u001b[0m",
      "\u001b[0;31mValueError\u001b[0m                                Traceback (most recent call last)",
      "Input \u001b[0;32mIn [17]\u001b[0m, in \u001b[0;36m<cell line: 7>\u001b[0;34m()\u001b[0m\n\u001b[1;32m     18\u001b[0m pat1 \u001b[38;5;241m=\u001b[39m x[i]\n\u001b[1;32m     19\u001b[0m pat2 \u001b[38;5;241m=\u001b[39m x[j]\n\u001b[0;32m---> 20\u001b[0m ds \u001b[38;5;241m=\u001b[39m \u001b[43mdtw\u001b[49m\u001b[43m(\u001b[49m\u001b[38;5;28;43mlist\u001b[39;49m\u001b[43m(\u001b[49m\u001b[43mpat1\u001b[49m\u001b[43m)\u001b[49m\u001b[43m,\u001b[49m\u001b[43m \u001b[49m\u001b[38;5;28;43mlist\u001b[39;49m\u001b[43m(\u001b[49m\u001b[43mpat2\u001b[49m\u001b[43m)\u001b[49m\u001b[43m)\u001b[49m\n\u001b[1;32m     21\u001b[0m \u001b[38;5;28mprint\u001b[39m(ds\u001b[38;5;241m.\u001b[39mdistance)\n\u001b[1;32m     22\u001b[0m dtw_matrix[i,j] \u001b[38;5;241m=\u001b[39m ds\u001b[38;5;241m.\u001b[39mdistance\n",
      "File \u001b[0;32m~/.local/lib/python3.8/site-packages/dtw/dtw.py:364\u001b[0m, in \u001b[0;36mdtw\u001b[0;34m(x, y, dist_method, step_pattern, window_type, window_args, keep_internals, distance_only, open_end, open_begin)\u001b[0m\n\u001b[1;32m    362\u001b[0m     \u001b[38;5;28;01mif\u001b[39;00m y2\u001b[38;5;241m.\u001b[39mshape[\u001b[38;5;241m0\u001b[39m] \u001b[38;5;241m==\u001b[39m \u001b[38;5;241m1\u001b[39m:\n\u001b[1;32m    363\u001b[0m         y2 \u001b[38;5;241m=\u001b[39m y2\u001b[38;5;241m.\u001b[39mT\n\u001b[0;32m--> 364\u001b[0m     lm \u001b[38;5;241m=\u001b[39m \u001b[43mscipy\u001b[49m\u001b[38;5;241;43m.\u001b[39;49m\u001b[43mspatial\u001b[49m\u001b[38;5;241;43m.\u001b[39;49m\u001b[43mdistance\u001b[49m\u001b[38;5;241;43m.\u001b[39;49m\u001b[43mcdist\u001b[49m\u001b[43m(\u001b[49m\u001b[43mx2\u001b[49m\u001b[43m,\u001b[49m\u001b[43m \u001b[49m\u001b[43my2\u001b[49m\u001b[43m,\u001b[49m\u001b[43m \u001b[49m\u001b[43mmetric\u001b[49m\u001b[38;5;241;43m=\u001b[39;49m\u001b[43mdist_method\u001b[49m\u001b[43m)\u001b[49m\n\u001b[1;32m    366\u001b[0m wfun \u001b[38;5;241m=\u001b[39m _canonicalizeWindowFunction(window_type)\n\u001b[1;32m    368\u001b[0m step_pattern \u001b[38;5;241m=\u001b[39m _canonicalizeStepPattern(step_pattern)\n",
      "File \u001b[0;32m~/.local/lib/python3.8/site-packages/scipy/spatial/distance.py:2947\u001b[0m, in \u001b[0;36mcdist\u001b[0;34m(XA, XB, metric, out, **kwargs)\u001b[0m\n\u001b[1;32m   2945\u001b[0m \u001b[38;5;28;01mif\u001b[39;00m metric_info \u001b[38;5;129;01mis\u001b[39;00m \u001b[38;5;129;01mnot\u001b[39;00m \u001b[38;5;28;01mNone\u001b[39;00m:\n\u001b[1;32m   2946\u001b[0m     cdist_fn \u001b[38;5;241m=\u001b[39m metric_info\u001b[38;5;241m.\u001b[39mcdist_func\n\u001b[0;32m-> 2947\u001b[0m     \u001b[38;5;28;01mreturn\u001b[39;00m \u001b[43mcdist_fn\u001b[49m\u001b[43m(\u001b[49m\u001b[43mXA\u001b[49m\u001b[43m,\u001b[49m\u001b[43m \u001b[49m\u001b[43mXB\u001b[49m\u001b[43m,\u001b[49m\u001b[43m \u001b[49m\u001b[43mout\u001b[49m\u001b[38;5;241;43m=\u001b[39;49m\u001b[43mout\u001b[49m\u001b[43m,\u001b[49m\u001b[43m \u001b[49m\u001b[38;5;241;43m*\u001b[39;49m\u001b[38;5;241;43m*\u001b[39;49m\u001b[43mkwargs\u001b[49m\u001b[43m)\u001b[49m\n\u001b[1;32m   2948\u001b[0m \u001b[38;5;28;01melif\u001b[39;00m mstr\u001b[38;5;241m.\u001b[39mstartswith(\u001b[38;5;124m\"\u001b[39m\u001b[38;5;124mtest_\u001b[39m\u001b[38;5;124m\"\u001b[39m):\n\u001b[1;32m   2949\u001b[0m     metric_info \u001b[38;5;241m=\u001b[39m _TEST_METRICS\u001b[38;5;241m.\u001b[39mget(mstr, \u001b[38;5;28;01mNone\u001b[39;00m)\n",
      "\u001b[0;31mValueError\u001b[0m: Unsupported dtype object"
     ]
    }
   ],
   "source": [
    "x = np.load('../../Data/E2_FinanceData/FinanceData_20days.npy', allow_pickle=True)\n",
    "\n",
    "print(x.shape)\n",
    "\n",
    "time_dtw_dep = []\n",
    "\n",
    "for rep in range(number_of_repetitions):\n",
    "    print(rep)\n",
    "    \n",
    "    f = open(\"contador.txt\", \"a\")\n",
    "    f.write(str(rep))\n",
    "    f.close()\n",
    "    \n",
    "    inicio = time.time()\n",
    "    dtw_matrix = np.zeros((len(x), len(x)))\n",
    "    for i in range(len(x)):\n",
    "        for j in range(len(x)):\n",
    "            pat1 = x[i]\n",
    "            pat2 = x[j]\n",
    "            ds = dtw(list(pat1), list(pat2))\n",
    "            print(ds.distance)\n",
    "            dtw_matrix[i,j] = ds.distance\n",
    "\n",
    "    fin = time.time()\n",
    "    time_dtw_dep.append(fin-inicio)\n",
    "    \n",
    "f = open(\"python-dtw.txt\", \"a\")\n",
    "f.write(str(time_dtw_dep))\n",
    "f.close()"
   ]
  },
  {
   "cell_type": "code",
   "execution_count": 20,
   "metadata": {},
   "outputs": [
    {
     "data": {
      "text/plain": [
       "array([12.1445, 14.95, 15.025, 14.755, 14.925, 2227200], dtype=object)"
      ]
     },
     "execution_count": 20,
     "metadata": {},
     "output_type": "execute_result"
    }
   ],
   "source": [
    "list(pat1)[0]"
   ]
  },
  {
   "cell_type": "code",
   "execution_count": null,
   "metadata": {},
   "outputs": [],
   "source": []
  }
 ],
 "metadata": {
  "kernelspec": {
   "display_name": "Python 3 (ipykernel)",
   "language": "python",
   "name": "python3"
  },
  "language_info": {
   "codemirror_mode": {
    "name": "ipython",
    "version": 3
   },
   "file_extension": ".py",
   "mimetype": "text/x-python",
   "name": "python",
   "nbconvert_exporter": "python",
   "pygments_lexer": "ipython3",
   "version": "3.8.10"
  }
 },
 "nbformat": 4,
 "nbformat_minor": 4
}
