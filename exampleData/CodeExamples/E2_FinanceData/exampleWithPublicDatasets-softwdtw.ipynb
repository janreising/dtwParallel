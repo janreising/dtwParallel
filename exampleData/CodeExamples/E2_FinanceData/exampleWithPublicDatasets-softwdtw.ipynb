{
 "cells": [
  {
   "cell_type": "code",
   "execution_count": 1,
   "metadata": {},
   "outputs": [
    {
     "name": "stderr",
     "output_type": "stream",
     "text": [
      "/home/cgarvic/.local/lib/python3.8/site-packages/tslearn/bases/bases.py:15: UserWarning: h5py not installed, hdf5 features will not be supported.\n",
      "Install h5py to use hdf5 features: http://docs.h5py.org/\n",
      "  warn(h5py_msg)\n"
     ]
    }
   ],
   "source": [
    "# package 1\n",
    "from dtaidistance import dtw, dtw_ndim\n",
    "# package 2\n",
    "from fastdtw import fastdtw\n",
    "# package 4\n",
    "from dtw import dtw\n",
    "# package 5\n",
    "# from pydtw import dtw2d\n",
    "# package 6\n",
    "# from sdtw import SoftDTW\n",
    "# from sdtw.distance import SquaredEuclidean\n",
    "\n",
    "import time\n",
    "from scipy.spatial import distance\n",
    "import numpy as np\n",
    "\n",
    "from tslearn import metrics"
   ]
  },
  {
   "cell_type": "code",
   "execution_count": 2,
   "metadata": {},
   "outputs": [],
   "source": [
    "number_of_repetitions = 30"
   ]
  },
  {
   "cell_type": "markdown",
   "metadata": {},
   "source": [
    "* The currently tested packages can only work with distances that do not allow the computation of data of different nature. For this reason, a public data set obtained from https://finance.yahoo.com/ has been used. All data are continuous."
   ]
  },
  {
   "cell_type": "markdown",
   "metadata": {},
   "source": [
    "# 4. softdtw. DTW dependent."
   ]
  },
  {
   "cell_type": "code",
   "execution_count": 3,
   "metadata": {
    "scrolled": true
   },
   "outputs": [
    {
     "name": "stdout",
     "output_type": "stream",
     "text": [
      "(505, 20, 5)\n",
      "0\n",
      "1\n",
      "2\n",
      "3\n",
      "4\n",
      "5\n",
      "6\n",
      "7\n",
      "8\n",
      "9\n",
      "10\n",
      "11\n",
      "12\n",
      "13\n",
      "14\n",
      "15\n",
      "16\n",
      "17\n",
      "18\n",
      "19\n",
      "20\n",
      "21\n",
      "22\n",
      "23\n",
      "24\n",
      "25\n",
      "26\n",
      "27\n",
      "28\n",
      "29\n"
     ]
    }
   ],
   "source": [
    "x = np.load('../../Data/E2_FinanceData/FinanceData_20days.npy', allow_pickle=True)\n",
    "\n",
    "print(x.shape)\n",
    "\n",
    "time_dtw_dep = []\n",
    "\n",
    "for rep in range(number_of_repetitions):\n",
    "    print(rep)\n",
    "    \n",
    "    inicio = time.time()\n",
    "    dtw_matrix = np.zeros((len(x), len(x)))\n",
    "    for i in range(len(x)):\n",
    "        for j in range(len(x)):\n",
    "            pat1 = x[i]\n",
    "            pat2 = x[j]\n",
    "            d = metrics.soft_dtw(pat1, pat2)\n",
    "            dtw_matrix[i,j] = d\n",
    "\n",
    "    fin = time.time()\n",
    "    time_dtw_dep.append(fin-inicio)\n",
    "    \n",
    "f = open(\"softdtw.txt\", \"a\")\n",
    "f.write(str(time_dtw_dep))\n",
    "f.close()"
   ]
  },
  {
   "cell_type": "code",
   "execution_count": null,
   "metadata": {},
   "outputs": [],
   "source": []
  }
 ],
 "metadata": {
  "kernelspec": {
   "display_name": "Python 3 (ipykernel)",
   "language": "python",
   "name": "python3"
  },
  "language_info": {
   "codemirror_mode": {
    "name": "ipython",
    "version": 3
   },
   "file_extension": ".py",
   "mimetype": "text/x-python",
   "name": "python",
   "nbconvert_exporter": "python",
   "pygments_lexer": "ipython3",
   "version": "3.8.0"
  }
 },
 "nbformat": 4,
 "nbformat_minor": 4
}
