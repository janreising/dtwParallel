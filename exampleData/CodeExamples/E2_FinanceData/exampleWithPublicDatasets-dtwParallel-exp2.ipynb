{
 "cells": [
  {
   "cell_type": "code",
   "execution_count": 7,
   "metadata": {},
   "outputs": [],
   "source": [
    "import time\n",
    "\n",
    "from dtwParallel import dtw_functions\n",
    "\n",
    "from scipy.spatial import distance\n",
    "import numpy as np"
   ]
  },
  {
   "cell_type": "markdown",
   "metadata": {},
   "source": [
    "## dtwParallel"
   ]
  },
  {
   "cell_type": "markdown",
   "metadata": {},
   "source": [
    "## 505 MTS"
   ]
  },
  {
   "cell_type": "code",
   "execution_count": 10,
   "metadata": {
    "scrolled": false
   },
   "outputs": [
    {
     "name": "stdout",
     "output_type": "stream",
     "text": [
      "(505, 20, 6)\n",
      "(505, 20, 6)\n"
     ]
    }
   ],
   "source": [
    "# PAQUETE DESARROLLADO: DTW DEPENDIENTE\n",
    "\n",
    "class Input:\n",
    "    def __init__(self):\n",
    "        self.check_errors = False \n",
    "        self.type_dtw = \"sakoe-chiba\"\n",
    "        self.MTS = True\n",
    "        self.regular_flag = 0\n",
    "        self.n_threads = 8\n",
    "        self.local_dissimilarity = \"square_euclidean_distance\"\n",
    "        self.visualization = False\n",
    "        self.output_file = False\n",
    "        self.DTW_to_kernel = False\n",
    "        self.sigma = 1\n",
    "        self.itakura_max_slope = None\n",
    "        self.sakoe_chiba_radius = None\n",
    "        \n",
    "        \n",
    "x = np.load('../../Data/E2_FinanceData/FinanceData_20days_norm.npy', allow_pickle=True)\n",
    "y = x.copy()\n",
    "\n",
    "print(x.shape)\n",
    "print(y.shape)\n",
    "\n",
    "\n",
    "n_threads = [2, 4, 8, 16, 32, 64]\n",
    "\n",
    "# Hacer 30 veces y quedarme con la media o mediana del tiempo.\n",
    "dicc = {}\n",
    "for i in range(len(n_threads)):\n",
    "    times_1 = []\n",
    "    for j in range(30):\n",
    "        input_obj = Input()\n",
    "        input_obj.n_threads = n_threads[i]\n",
    "\n",
    "        inicio = time.time()\n",
    "\n",
    "        matrix = dtw_functions.dtw_tensor_3d(x, y, input_obj)\n",
    "\n",
    "        fin = time.time()\n",
    "\n",
    "        times_1.append(fin-inicio)\n",
    "\n",
    "    dicc[i] = times_1\n",
    "\n",
    "    \n",
    "f = open(\"../../results_E2_financeData/dtwParallel_505_mult_threads_sakoe_chiba.txt\", \"a\")\n",
    "f.write(str(dicc))\n",
    "f.close()"
   ]
  },
  {
   "cell_type": "code",
   "execution_count": 11,
   "metadata": {},
   "outputs": [
    {
     "name": "stdout",
     "output_type": "stream",
     "text": [
      "(505, 20, 6)\n",
      "(505, 20, 6)\n"
     ]
    }
   ],
   "source": [
    "# PAQUETE DESARROLLADO: DTW DEPENDIENTE\n",
    "\n",
    "class Input:\n",
    "    def __init__(self):\n",
    "        self.check_errors = False \n",
    "        self.type_dtw = \"itakura\"\n",
    "        self.MTS = True\n",
    "        self.regular_flag = 0\n",
    "        self.n_threads = 8\n",
    "        self.local_dissimilarity = \"square_euclidean_distance\"\n",
    "        self.visualization = False\n",
    "        self.output_file = False\n",
    "        self.DTW_to_kernel = False\n",
    "        self.sigma = 1\n",
    "        self.itakura_max_slope = None\n",
    "        self.sakoe_chiba_radius = None\n",
    "        \n",
    "        \n",
    "x = np.load('../../Data/E2_FinanceData/FinanceData_20days_norm.npy', allow_pickle=True)\n",
    "y = x.copy()\n",
    "\n",
    "print(x.shape)\n",
    "print(y.shape)\n",
    "\n",
    "\n",
    "n_threads = [2, 4, 8, 16, 32, 64]\n",
    "\n",
    "# Hacer 30 veces y quedarme con la media o mediana del tiempo.\n",
    "dicc = {}\n",
    "for i in range(len(n_threads)):\n",
    "    times_1 = []\n",
    "    for j in range(30):\n",
    "        input_obj = Input()\n",
    "        input_obj.n_threads = n_threads[i]\n",
    "\n",
    "        inicio = time.time()\n",
    "\n",
    "        matrix = dtw_functions.dtw_tensor_3d(x, y, input_obj)\n",
    "\n",
    "        fin = time.time()\n",
    "\n",
    "        times_1.append(fin-inicio)\n",
    "\n",
    "    dicc[i] = times_1\n",
    "\n",
    "    \n",
    "f = open(\"../../results_E2_financeData/dtwParallel_505_mult_threads_itakura.txt\", \"a\")\n",
    "f.write(str(dicc))\n",
    "f.close()"
   ]
  },
  {
   "cell_type": "code",
   "execution_count": null,
   "metadata": {},
   "outputs": [],
   "source": []
  }
 ],
 "metadata": {
  "kernelspec": {
   "display_name": "Python 3 (ipykernel)",
   "language": "python",
   "name": "python3"
  },
  "language_info": {
   "codemirror_mode": {
    "name": "ipython",
    "version": 3
   },
   "file_extension": ".py",
   "mimetype": "text/x-python",
   "name": "python",
   "nbconvert_exporter": "python",
   "pygments_lexer": "ipython3",
   "version": "3.9.12"
  }
 },
 "nbformat": 4,
 "nbformat_minor": 4
}
